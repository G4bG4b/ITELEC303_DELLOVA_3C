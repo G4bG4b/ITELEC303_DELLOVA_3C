{
 "cells": [
  {
   "cell_type": "markdown",
   "id": "92024df6-a63c-4f91-9f74-e5c0dea32125",
   "metadata": {},
   "source": [
    "<h1>Midterms Review</h1>\n",
    "<hr>"
   ]
  },
  {
   "cell_type": "markdown",
   "id": "1e9c8fa2-affd-4a72-9526-a08afcd6331c",
   "metadata": {},
   "source": [
    "<h2>Adding Imports</h2>"
   ]
  },
  {
   "cell_type": "code",
   "execution_count": 5,
   "id": "fadba3f8-3615-45bd-adaf-6c1efeb3dcad",
   "metadata": {},
   "outputs": [],
   "source": [
    "import numpy as np\n",
    "import pandas as pd\n",
    "import warnings\n",
    "warnings.filterwarnings('ignore')\n",
    "import matplotlib.pyplot as plt\n",
    "from scipy.stats import f_oneway"
   ]
  },
  {
   "cell_type": "markdown",
   "id": "8ac46cdf-bbd4-46c9-8ac1-8088d0257aab",
   "metadata": {},
   "source": [
    "<h2>Fetching the Dataset</h2>"
   ]
  },
  {
   "cell_type": "code",
   "execution_count": 3,
   "id": "55b51549-c57d-4a48-83c6-88685d4221d7",
   "metadata": {},
   "outputs": [],
   "source": [
    "chicago = pd.read_csv('DATASET/Chicago_Crimes.csv')"
   ]
  },
  {
   "cell_type": "code",
   "execution_count": 4,
   "id": "e73a9b71-07a0-4fb2-9723-9b9d1cfddf48",
   "metadata": {},
   "outputs": [
    {
     "name": "stdout",
     "output_type": "stream",
     "text": [
      "<class 'pandas.core.frame.DataFrame'>\n",
      "RangeIndex: 249123 entries, 0 to 249122\n",
      "Data columns (total 22 columns):\n",
      " #   Column                Non-Null Count   Dtype  \n",
      "---  ------                --------------   -----  \n",
      " 0   ID                    249123 non-null  int64  \n",
      " 1   Case Number           249123 non-null  object \n",
      " 2   Date                  249123 non-null  object \n",
      " 3   Block                 249123 non-null  object \n",
      " 4   IUCR                  249123 non-null  object \n",
      " 5   Primary Type          249123 non-null  object \n",
      " 6   Description           249123 non-null  object \n",
      " 7   Location Description  248266 non-null  object \n",
      " 8   Arrest                249123 non-null  bool   \n",
      " 9   Domestic              249123 non-null  bool   \n",
      " 10  Beat                  249123 non-null  int64  \n",
      " 11  District              249123 non-null  int64  \n",
      " 12  Ward                  249123 non-null  int64  \n",
      " 13  Community Area        249120 non-null  float64\n",
      " 14  FBI Code              249123 non-null  object \n",
      " 15  X Coordinate          249033 non-null  float64\n",
      " 16  Y Coordinate          249033 non-null  float64\n",
      " 17  Year                  249123 non-null  int64  \n",
      " 18  Updated On            249123 non-null  object \n",
      " 19  Latitude              249033 non-null  float64\n",
      " 20  Longitude             249033 non-null  float64\n",
      " 21  Location              249033 non-null  object \n",
      "dtypes: bool(2), float64(5), int64(5), object(10)\n",
      "memory usage: 38.5+ MB\n"
     ]
    }
   ],
   "source": [
    "chicago.info()"
   ]
  },
  {
   "cell_type": "markdown",
   "id": "f3a339ea-d02f-4151-b2f3-5c8b0b58209f",
   "metadata": {},
   "source": [
    "<h2>Looking for Categorical Datatypes</h2>"
   ]
  },
  {
   "cell_type": "code",
   "execution_count": 9,
   "id": "6c63d173-ea7e-4d35-bfc0-2a45cfbddc9b",
   "metadata": {},
   "outputs": [
    {
     "data": {
      "text/plain": [
       "Primary Type\n",
       "THEFT                                59201\n",
       "BATTERY                              44579\n",
       "CRIMINAL DAMAGE                      27094\n",
       "ASSAULT                              22615\n",
       "MOTOR VEHICLE THEFT                  19604\n",
       "OTHER OFFENSE                        16781\n",
       "DECEPTIVE PRACTICE                   14991\n",
       "BURGLARY                              8443\n",
       "ROBBERY                               8200\n",
       "WEAPONS VIOLATION                     7164\n",
       "NARCOTICS                             6627\n",
       "CRIMINAL TRESPASS                     5045\n",
       "OFFENSE INVOLVING CHILDREN            1597\n",
       "CRIMINAL SEXUAL ASSAULT               1573\n",
       "SEX OFFENSE                           1210\n",
       "PUBLIC PEACE VIOLATION                1006\n",
       "INTERFERENCE WITH PUBLIC OFFICER       771\n",
       "HOMICIDE                               553\n",
       "STALKING                               520\n",
       "ARSON                                  452\n",
       "PROSTITUTION                           287\n",
       "CONCEALED CARRY LICENSE VIOLATION      249\n",
       "LIQUOR LAW VIOLATION                   192\n",
       "INTIMIDATION                           145\n",
       "KIDNAPPING                             105\n",
       "OBSCENITY                               53\n",
       "HUMAN TRAFFICKING                       24\n",
       "GAMBLING                                18\n",
       "PUBLIC INDECENCY                        13\n",
       "OTHER NARCOTIC VIOLATION                 7\n",
       "NON-CRIMINAL                             4\n",
       "Name: count, dtype: int64"
      ]
     },
     "execution_count": 9,
     "metadata": {},
     "output_type": "execute_result"
    }
   ],
   "source": [
    "chicago['Primary Type'].value_counts()"
   ]
  },
  {
   "cell_type": "code",
   "execution_count": 11,
   "id": "9c92b4c8-e712-4449-aec5-e68b7fa358c2",
   "metadata": {},
   "outputs": [
    {
     "data": {
      "text/plain": [
       "Location Description\n",
       "STREET                66040\n",
       "APARTMENT             47787\n",
       "RESIDENCE             29776\n",
       "SIDEWALK              13265\n",
       "SMALL RETAIL STORE     9858\n",
       "                      ...  \n",
       "SAVINGS AND LOAN          1\n",
       "RETAIL STORE              1\n",
       "HOTEL                     1\n",
       "CHA STAIRWELL             1\n",
       "CTA \"L\" PLATFORM          1\n",
       "Name: count, Length: 128, dtype: int64"
      ]
     },
     "execution_count": 11,
     "metadata": {},
     "output_type": "execute_result"
    }
   ],
   "source": [
    "chicago['Location Description'].value_counts()"
   ]
  },
  {
   "cell_type": "code",
   "execution_count": 13,
   "id": "0a0b26ad-571e-4034-97cc-bb65f160c15f",
   "metadata": {},
   "outputs": [
    {
     "data": {
      "text/plain": [
       "Domestic\n",
       "False    202776\n",
       "True      46347\n",
       "Name: count, dtype: int64"
      ]
     },
     "execution_count": 13,
     "metadata": {},
     "output_type": "execute_result"
    }
   ],
   "source": [
    "chicago['Domestic'].value_counts()"
   ]
  },
  {
   "cell_type": "code",
   "execution_count": 14,
   "id": "38379e55-62ec-4baa-beb7-e554686ff7c5",
   "metadata": {},
   "outputs": [
    {
     "data": {
      "text/plain": [
       "Arrest\n",
       "False    213121\n",
       "True      36002\n",
       "Name: count, dtype: int64"
      ]
     },
     "execution_count": 14,
     "metadata": {},
     "output_type": "execute_result"
    }
   ],
   "source": [
    "chicago['Arrest'].value_counts()"
   ]
  },
  {
   "cell_type": "code",
   "execution_count": 18,
   "id": "0e18502a-1578-47f4-bfcb-2e3f0fc0a7dd",
   "metadata": {},
   "outputs": [
    {
     "data": {
      "text/plain": [
       "Year\n",
       "2024    188918\n",
       "2025     60205\n",
       "Name: count, dtype: int64"
      ]
     },
     "execution_count": 18,
     "metadata": {},
     "output_type": "execute_result"
    }
   ],
   "source": [
    "chicago['Year'].value_counts()"
   ]
  },
  {
   "cell_type": "code",
   "execution_count": 20,
   "id": "3dbdf737-1655-4f28-9528-6ad6fd731e63",
   "metadata": {},
   "outputs": [],
   "source": [
    "# change to datetime\n",
    "# chicago['Updated On'].value_counts()"
   ]
  },
  {
   "cell_type": "code",
   "execution_count": 21,
   "id": "fb344809-6658-477f-b0b9-8251337d95b7",
   "metadata": {},
   "outputs": [],
   "source": [
    "# change to datetime\n",
    "# chicago['Date'].value_counts()"
   ]
  },
  {
   "cell_type": "markdown",
   "id": "2dc7c9da-11f7-45a6-833f-8c765251cae5",
   "metadata": {},
   "source": [
    "<h1>Looking for Null Values</h1>\n",
    "<hr>"
   ]
  },
  {
   "cell_type": "code",
   "execution_count": 25,
   "id": "8640c82d-17ea-49ae-9d16-340098562acb",
   "metadata": {},
   "outputs": [
    {
     "data": {
      "text/plain": [
       "ID                        0\n",
       "Case Number               0\n",
       "Date                      0\n",
       "Block                     0\n",
       "IUCR                      0\n",
       "Primary Type              0\n",
       "Description               0\n",
       "Location Description    857\n",
       "Arrest                    0\n",
       "Domestic                  0\n",
       "Beat                      0\n",
       "District                  0\n",
       "Ward                      0\n",
       "Community Area            3\n",
       "FBI Code                  0\n",
       "X Coordinate             90\n",
       "Y Coordinate             90\n",
       "Year                      0\n",
       "Updated On                0\n",
       "Latitude                 90\n",
       "Longitude                90\n",
       "Location                 90\n",
       "dtype: int64"
      ]
     },
     "execution_count": 25,
     "metadata": {},
     "output_type": "execute_result"
    }
   ],
   "source": [
    "chicago.isnull().sum()"
   ]
  },
  {
   "cell_type": "code",
   "execution_count": 26,
   "id": "825938ad-644d-41e4-b7ee-b8bbca69ca06",
   "metadata": {},
   "outputs": [],
   "source": [
    "chicago['Location Description'] = chicago['Location Description'].fillna('Unknown')\n",
    "chicago['X Coordinate'] = chicago['X Coordinate'].fillna('Unknown')\n",
    "chicago['Y Coordinate'] = chicago['Y Coordinate'].fillna('Unknown')\n",
    "chicago['Latitude'] = chicago['Latitude'].fillna('Unknown')\n",
    "chicago['Longitude'] = chicago['Longitude'].fillna('Unknown')\n",
    "chicago['Location'] = chicago['Location'].fillna('Unknown')"
   ]
  },
  {
   "cell_type": "code",
   "execution_count": 27,
   "id": "7fc984b5-bacc-4f70-a47f-7708c6233911",
   "metadata": {},
   "outputs": [
    {
     "data": {
      "text/plain": [
       "ID                      0\n",
       "Case Number             0\n",
       "Date                    0\n",
       "Block                   0\n",
       "IUCR                    0\n",
       "Primary Type            0\n",
       "Description             0\n",
       "Location Description    0\n",
       "Arrest                  0\n",
       "Domestic                0\n",
       "Beat                    0\n",
       "District                0\n",
       "Ward                    0\n",
       "Community Area          3\n",
       "FBI Code                0\n",
       "X Coordinate            0\n",
       "Y Coordinate            0\n",
       "Year                    0\n",
       "Updated On              0\n",
       "Latitude                0\n",
       "Longitude               0\n",
       "Location                0\n",
       "dtype: int64"
      ]
     },
     "execution_count": 27,
     "metadata": {},
     "output_type": "execute_result"
    }
   ],
   "source": [
    "chicago.isnull().sum()"
   ]
  },
  {
   "cell_type": "markdown",
   "id": "89ba2f66-e835-4743-a81f-d518a52f870c",
   "metadata": {},
   "source": [
    "<h1>Changing Datatypes</h1>\n",
    "<hr>"
   ]
  },
  {
   "cell_type": "code",
   "execution_count": 30,
   "id": "e6239b53-67e4-4168-9ccd-7f9a02e1d2c5",
   "metadata": {},
   "outputs": [],
   "source": [
    "chicago['Primary Type'] = chicago['Primary Type'].astype('category')\n",
    "chicago['Location Description'] = chicago['Location Description'].astype('category')\n",
    "chicago['Domestic'] = chicago['Domestic'].astype('category')\n",
    "chicago['Arrest'] = chicago['Arrest'].astype('category')\n",
    "chicago['Year'] = chicago['Year'].astype('category')"
   ]
  },
  {
   "cell_type": "code",
   "execution_count": 31,
   "id": "d2483599-1acc-47f0-adaa-3f9ea540266d",
   "metadata": {},
   "outputs": [],
   "source": [
    "chicago['Date'] = pd.to_datetime(chicago['Date'], dayfirst = True, errors = 'coerce')"
   ]
  },
  {
   "cell_type": "code",
   "execution_count": 32,
   "id": "da9e95b1-08b9-4d68-983e-da77b413fe3c",
   "metadata": {},
   "outputs": [
    {
     "data": {
      "text/plain": [
       "ID                               int64\n",
       "Case Number                     object\n",
       "Date                    datetime64[ns]\n",
       "Block                           object\n",
       "IUCR                            object\n",
       "Primary Type                  category\n",
       "Description                     object\n",
       "Location Description          category\n",
       "Arrest                        category\n",
       "Domestic                      category\n",
       "Beat                             int64\n",
       "District                         int64\n",
       "Ward                             int64\n",
       "Community Area                 float64\n",
       "FBI Code                        object\n",
       "X Coordinate                    object\n",
       "Y Coordinate                    object\n",
       "Year                          category\n",
       "Updated On                      object\n",
       "Latitude                        object\n",
       "Longitude                       object\n",
       "Location                        object\n",
       "dtype: object"
      ]
     },
     "execution_count": 32,
     "metadata": {},
     "output_type": "execute_result"
    }
   ],
   "source": [
    "chicago.dtypes"
   ]
  },
  {
   "cell_type": "markdown",
   "id": "0efb5675-33ea-4feb-8f49-ecb10df67856",
   "metadata": {},
   "source": [
    "<h1>Adding DateTime Columns</h1>"
   ]
  },
  {
   "cell_type": "code",
   "execution_count": 33,
   "id": "8f99dfec-9b7e-4ad7-bec4-7ff76f2fabd4",
   "metadata": {},
   "outputs": [
    {
     "data": {
      "text/plain": [
       "Date\n",
       "2024-01-11 00:00:00    70\n",
       "2024-01-05 00:00:00    69\n",
       "2024-01-06 00:00:00    69\n",
       "2024-01-08 00:00:00    69\n",
       "2024-01-09 00:00:00    65\n",
       "                       ..\n",
       "2025-11-04 21:40:00     1\n",
       "2025-11-04 21:43:00     1\n",
       "2025-11-04 21:45:00     1\n",
       "2024-06-21 19:33:00     1\n",
       "2024-04-14 00:14:00     1\n",
       "Name: count, Length: 126287, dtype: int64"
      ]
     },
     "execution_count": 33,
     "metadata": {},
     "output_type": "execute_result"
    }
   ],
   "source": [
    "chicago['Date'].value_counts()"
   ]
  },
  {
   "cell_type": "code",
   "execution_count": 34,
   "id": "137d5f90-8c25-47a5-81a7-a8c066387901",
   "metadata": {},
   "outputs": [],
   "source": [
    "chicago['Month'] = chicago['Date'].dt.month\n",
    "chicago['Day'] = chicago['Date'].dt.day\n",
    "chicago['DayofWeek'] = chicago['Date'].dt.dayofweek"
   ]
  },
  {
   "cell_type": "code",
   "execution_count": 35,
   "id": "7449cb43-1e81-4975-bd2c-6369ce1474eb",
   "metadata": {},
   "outputs": [
    {
     "data": {
      "text/plain": [
       "ID                               int64\n",
       "Case Number                     object\n",
       "Date                    datetime64[ns]\n",
       "Block                           object\n",
       "IUCR                            object\n",
       "Primary Type                  category\n",
       "Description                     object\n",
       "Location Description          category\n",
       "Arrest                        category\n",
       "Domestic                      category\n",
       "Beat                             int64\n",
       "District                         int64\n",
       "Ward                             int64\n",
       "Community Area                 float64\n",
       "FBI Code                        object\n",
       "X Coordinate                    object\n",
       "Y Coordinate                    object\n",
       "Year                          category\n",
       "Updated On                      object\n",
       "Latitude                        object\n",
       "Longitude                       object\n",
       "Location                        object\n",
       "Month                            int32\n",
       "Day                              int32\n",
       "DayofWeek                        int32\n",
       "dtype: object"
      ]
     },
     "execution_count": 35,
     "metadata": {},
     "output_type": "execute_result"
    }
   ],
   "source": [
    "chicago.dtypes"
   ]
  },
  {
   "cell_type": "code",
   "execution_count": null,
   "id": "c8209c95-1e85-4196-b677-91da19eb72c9",
   "metadata": {},
   "outputs": [],
   "source": []
  }
 ],
 "metadata": {
  "kernelspec": {
   "display_name": "Python 3 (ipykernel)",
   "language": "python",
   "name": "python3"
  },
  "language_info": {
   "codemirror_mode": {
    "name": "ipython",
    "version": 3
   },
   "file_extension": ".py",
   "mimetype": "text/x-python",
   "name": "python",
   "nbconvert_exporter": "python",
   "pygments_lexer": "ipython3",
   "version": "3.13.5"
  }
 },
 "nbformat": 4,
 "nbformat_minor": 5
}
