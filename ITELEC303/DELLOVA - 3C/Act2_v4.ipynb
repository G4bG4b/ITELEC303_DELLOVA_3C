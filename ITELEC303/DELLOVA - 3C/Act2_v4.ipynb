{
 "cells": [
  {
   "cell_type": "markdown",
   "id": "e267e4dd-aea0-474a-a0fe-52e3640f075e",
   "metadata": {},
   "source": [
    "<H1>Activity 2: Project: UK Road Kill</H1>\n",
    "<hr>\n",
    "<h2>Analyst: Karl Gabriel Dellova</h2>"
   ]
  },
  {
   "cell_type": "code",
   "execution_count": 1,
   "id": "f73d2f4e-e0e0-4852-918b-fd5edb02eb4e",
   "metadata": {},
   "outputs": [],
   "source": [
    "import numpy as np\n",
    "import pandas as pd\n",
    "import warnings\n",
    "warnings.filterwarnings('ignore')\n",
    "from scipy.stats import f_oneway\n",
    "import matplotlib.pyplot as plt"
   ]
  },
  {
   "cell_type": "code",
   "execution_count": 2,
   "id": "5de4536b-b88e-4dd0-8460-051ee2e64ec8",
   "metadata": {},
   "outputs": [],
   "source": [
    "road_kill = pd.read_csv('DATASET/uk_accident_data.csv')"
   ]
  },
  {
   "cell_type": "code",
   "execution_count": 3,
   "id": "8aed0e00-7580-4b3a-98cb-e69f9a31de0a",
   "metadata": {},
   "outputs": [
    {
     "name": "stdout",
     "output_type": "stream",
     "text": [
      "<class 'pandas.core.frame.DataFrame'>\n",
      "RangeIndex: 660679 entries, 0 to 660678\n",
      "Data columns (total 14 columns):\n",
      " #   Column                   Non-Null Count   Dtype  \n",
      "---  ------                   --------------   -----  \n",
      " 0   Index                    660679 non-null  object \n",
      " 1   Accident_Severity        660679 non-null  object \n",
      " 2   Accident Date            660679 non-null  object \n",
      " 3   Latitude                 660654 non-null  float64\n",
      " 4   Light_Conditions         660679 non-null  object \n",
      " 5   District Area            660679 non-null  object \n",
      " 6   Longitude                660653 non-null  float64\n",
      " 7   Number_of_Casualties     660679 non-null  int64  \n",
      " 8   Number_of_Vehicles       660679 non-null  int64  \n",
      " 9   Road_Surface_Conditions  659953 non-null  object \n",
      " 10  Road_Type                656159 non-null  object \n",
      " 11  Urban_or_Rural_Area      660664 non-null  object \n",
      " 12  Weather_Conditions       646551 non-null  object \n",
      " 13  Vehicle_Type             660679 non-null  object \n",
      "dtypes: float64(2), int64(2), object(10)\n",
      "memory usage: 70.6+ MB\n"
     ]
    }
   ],
   "source": [
    "road_kill.info()"
   ]
  },
  {
   "cell_type": "code",
   "execution_count": 4,
   "id": "c4fce3e3-fd6f-4692-9c89-f849455466a5",
   "metadata": {},
   "outputs": [],
   "source": [
    "severity = road_kill['Accident_Severity']\n",
    "date = road_kill['Accident Date']\n",
    "lat = road_kill['Latitude']\n",
    "lights = road_kill['Light_Conditions']\n",
    "district = road_kill['District Area']\n",
    "long = road_kill['Longitude']\n",
    "casualty = road_kill['Number_of_Casualties']\n",
    "cars = road_kill['Number_of_Vehicles']\n",
    "surface = road_kill['Road_Surface_Conditions']\n",
    "road = road_kill['Road_Type']\n",
    "area = road_kill['Urban_or_Rural_Area'] \n",
    "weather = road_kill['Weather_Conditions']\n",
    "c_type = road_kill['Vehicle_Type']"
   ]
  },
  {
   "cell_type": "markdown",
   "id": "dd33d66e-0bb3-4d2c-9dc4-c0a47a0bda63",
   "metadata": {},
   "source": [
    "<h1>Checking Value Counts of Every Column</h1>\n",
    "<hr>"
   ]
  },
  {
   "cell_type": "code",
   "execution_count": 5,
   "id": "dd89b464-6ef7-41a5-a5c3-892e710746bb",
   "metadata": {},
   "outputs": [
    {
     "data": {
      "text/plain": [
       "Accident_Severity\n",
       "Slight     563801\n",
       "Serious     88217\n",
       "Fatal        8661\n",
       "Name: count, dtype: int64"
      ]
     },
     "execution_count": 5,
     "metadata": {},
     "output_type": "execute_result"
    }
   ],
   "source": [
    "road_kill['Accident_Severity'].value_counts()"
   ]
  },
  {
   "cell_type": "code",
   "execution_count": 6,
   "id": "d35e377f-65f2-4619-90e7-41c8c5559a25",
   "metadata": {},
   "outputs": [
    {
     "data": {
      "text/plain": [
       "Accident Date\n",
       "30/11/2019    704\n",
       "31/01/2019    697\n",
       "13/11/2021    692\n",
       "13/07/2019    692\n",
       "14/08/2019    688\n",
       "             ... \n",
       "30/12/2022    171\n",
       "25/12/2019    157\n",
       "25/12/2022    145\n",
       "10/01/2022    123\n",
       "25/12/2020    118\n",
       "Name: count, Length: 1461, dtype: int64"
      ]
     },
     "execution_count": 6,
     "metadata": {},
     "output_type": "execute_result"
    }
   ],
   "source": [
    "road_kill['Accident Date'].value_counts()"
   ]
  },
  {
   "cell_type": "code",
   "execution_count": 7,
   "id": "8080319b-839e-4a95-a89b-01075d2cc886",
   "metadata": {},
   "outputs": [
    {
     "data": {
      "text/plain": [
       "Latitude\n",
       "52.458798    50\n",
       "52.949719    45\n",
       "53.083165    33\n",
       "52.967634    31\n",
       "52.938860    29\n",
       "             ..\n",
       "57.374005     1\n",
       "57.232273     1\n",
       "57.585044     1\n",
       "57.214898     1\n",
       "53.590558     1\n",
       "Name: count, Length: 511618, dtype: int64"
      ]
     },
     "execution_count": 7,
     "metadata": {},
     "output_type": "execute_result"
    }
   ],
   "source": [
    "road_kill['Latitude'].value_counts()"
   ]
  },
  {
   "cell_type": "code",
   "execution_count": 8,
   "id": "063b1009-e8b9-41cc-943f-8e362405f11a",
   "metadata": {},
   "outputs": [
    {
     "data": {
      "text/plain": [
       "Light_Conditions\n",
       "Daylight                       484880\n",
       "Darkness - lights lit          129335\n",
       "Darkness - no lighting          37437\n",
       "Darkness - lighting unknown      6484\n",
       "Darkness - lights unlit          2543\n",
       "Name: count, dtype: int64"
      ]
     },
     "execution_count": 8,
     "metadata": {},
     "output_type": "execute_result"
    }
   ],
   "source": [
    "road_kill['Light_Conditions'].value_counts()"
   ]
  },
  {
   "cell_type": "code",
   "execution_count": 9,
   "id": "f89809e8-e2b3-4287-835b-58902f78309a",
   "metadata": {},
   "outputs": [
    {
     "data": {
      "text/plain": [
       "District Area\n",
       "Birmingham            13491\n",
       "Leeds                  8898\n",
       "Manchester             6720\n",
       "Bradford               6212\n",
       "Sheffield              5710\n",
       "                      ...  \n",
       "Berwick-upon-Tweed      153\n",
       "Teesdale                142\n",
       "Shetland Islands        133\n",
       "Orkney Islands          117\n",
       "Clackmannanshire         91\n",
       "Name: count, Length: 422, dtype: int64"
      ]
     },
     "execution_count": 9,
     "metadata": {},
     "output_type": "execute_result"
    }
   ],
   "source": [
    "road_kill['District Area'].value_counts()"
   ]
  },
  {
   "cell_type": "code",
   "execution_count": 10,
   "id": "89bcd536-1167-4ce5-a154-e34e894179ec",
   "metadata": {},
   "outputs": [
    {
     "data": {
      "text/plain": [
       "Longitude\n",
       "-0.977611    45\n",
       "-1.871043    36\n",
       "-0.816789    33\n",
       "-1.190861    31\n",
       "-1.216694    29\n",
       "             ..\n",
       "-1.290893     1\n",
       "-1.261295     1\n",
       "-1.148217     1\n",
       "-1.293355     1\n",
       "-1.165232     1\n",
       "Name: count, Length: 529766, dtype: int64"
      ]
     },
     "execution_count": 10,
     "metadata": {},
     "output_type": "execute_result"
    }
   ],
   "source": [
    "road_kill['Longitude'].value_counts()"
   ]
  },
  {
   "cell_type": "code",
   "execution_count": 11,
   "id": "f9fe0543-7e5c-4f39-8480-77b20a53407e",
   "metadata": {},
   "outputs": [
    {
     "data": {
      "text/plain": [
       "Number_of_Casualties\n",
       "1     504041\n",
       "2     107971\n",
       "3      30776\n",
       "4      11156\n",
       "5       4123\n",
       "6       1525\n",
       "7        539\n",
       "8        214\n",
       "9        112\n",
       "10        58\n",
       "11        36\n",
       "13        24\n",
       "12        21\n",
       "14        13\n",
       "15        11\n",
       "17         8\n",
       "19         7\n",
       "16         7\n",
       "18         6\n",
       "22         5\n",
       "21         4\n",
       "29         3\n",
       "40         2\n",
       "28         2\n",
       "24         2\n",
       "27         2\n",
       "42         2\n",
       "25         1\n",
       "32         1\n",
       "68         1\n",
       "45         1\n",
       "62         1\n",
       "47         1\n",
       "48         1\n",
       "26         1\n",
       "43         1\n",
       "Name: count, dtype: int64"
      ]
     },
     "execution_count": 11,
     "metadata": {},
     "output_type": "execute_result"
    }
   ],
   "source": [
    "road_kill['Number_of_Casualties'].value_counts()"
   ]
  },
  {
   "cell_type": "code",
   "execution_count": 12,
   "id": "a2f39897-360c-460f-8f98-d1f7949ad3e8",
   "metadata": {},
   "outputs": [
    {
     "data": {
      "text/plain": [
       "Number_of_Vehicles\n",
       "2     391995\n",
       "1     200787\n",
       "3      52806\n",
       "4      11300\n",
       "5       2464\n",
       "6        758\n",
       "7        296\n",
       "8        147\n",
       "9         57\n",
       "10        27\n",
       "11        12\n",
       "14         9\n",
       "12         7\n",
       "13         6\n",
       "16         4\n",
       "28         1\n",
       "15         1\n",
       "32         1\n",
       "19         1\n",
       "Name: count, dtype: int64"
      ]
     },
     "execution_count": 12,
     "metadata": {},
     "output_type": "execute_result"
    }
   ],
   "source": [
    "road_kill['Number_of_Vehicles'].value_counts()"
   ]
  },
  {
   "cell_type": "code",
   "execution_count": 13,
   "id": "d588f327-5b77-4b63-bbc4-42f82a98f843",
   "metadata": {},
   "outputs": [
    {
     "data": {
      "text/plain": [
       "Road_Surface_Conditions\n",
       "Dry                     447821\n",
       "Wet or damp             186708\n",
       "Frost or ice             18517\n",
       "Snow                      5890\n",
       "Flood over 3cm. deep      1017\n",
       "Name: count, dtype: int64"
      ]
     },
     "execution_count": 13,
     "metadata": {},
     "output_type": "execute_result"
    }
   ],
   "source": [
    "road_kill['Road_Surface_Conditions'].value_counts()"
   ]
  },
  {
   "cell_type": "code",
   "execution_count": 14,
   "id": "37f86aa8-8996-4f14-8df0-b5dee6d06407",
   "metadata": {},
   "outputs": [
    {
     "data": {
      "text/plain": [
       "Road_Type\n",
       "Single carriageway    492143\n",
       "Dual carriageway       99424\n",
       "Roundabout             43992\n",
       "One way street         13559\n",
       "Slip road               7041\n",
       "Name: count, dtype: int64"
      ]
     },
     "execution_count": 14,
     "metadata": {},
     "output_type": "execute_result"
    }
   ],
   "source": [
    "road_kill['Road_Type'].value_counts()"
   ]
  },
  {
   "cell_type": "code",
   "execution_count": 15,
   "id": "8a978c76-868d-43ac-8677-8347fc25a53e",
   "metadata": {},
   "outputs": [
    {
     "data": {
      "text/plain": [
       "Urban_or_Rural_Area\n",
       "Urban          421663\n",
       "Rural          238990\n",
       "Unallocated        11\n",
       "Name: count, dtype: int64"
      ]
     },
     "execution_count": 15,
     "metadata": {},
     "output_type": "execute_result"
    }
   ],
   "source": [
    "road_kill['Urban_or_Rural_Area'].value_counts()"
   ]
  },
  {
   "cell_type": "code",
   "execution_count": 16,
   "id": "80d40988-549b-4c26-b9d4-3db50a51f9ae",
   "metadata": {},
   "outputs": [
    {
     "data": {
      "text/plain": [
       "Weather_Conditions\n",
       "Fine no high winds       520885\n",
       "Raining no high winds     79696\n",
       "Other                     17150\n",
       "Raining + high winds       9615\n",
       "Fine + high winds          8554\n",
       "Snowing no high winds      6238\n",
       "Fog or mist                3528\n",
       "Snowing + high winds        885\n",
       "Name: count, dtype: int64"
      ]
     },
     "execution_count": 16,
     "metadata": {},
     "output_type": "execute_result"
    }
   ],
   "source": [
    "road_kill['Weather_Conditions'].value_counts()"
   ]
  },
  {
   "cell_type": "code",
   "execution_count": 17,
   "id": "13844fb6-117c-4812-b2fc-57c6686d1124",
   "metadata": {},
   "outputs": [
    {
     "data": {
      "text/plain": [
       "Vehicle_Type\n",
       "Car                                      497992\n",
       "Van / Goods 3.5 tonnes mgw or under       34160\n",
       "Bus or coach (17 or more pass seats)      25878\n",
       "Motorcycle over 500cc                     25657\n",
       "Goods 7.5 tonnes mgw and over             17307\n",
       "Motorcycle 125cc and under                15269\n",
       "Taxi/Private hire car                     13294\n",
       "Motorcycle over 125cc and up to 500cc      7656\n",
       "Motorcycle 50cc and under                  7603\n",
       "Goods over 3.5t. and under 7.5t            6096\n",
       "Other vehicle                              5637\n",
       "Minibus (8 - 16 passenger seats)           1976\n",
       "Agricultural vehicle                       1947\n",
       "Pedal cycle                                 197\n",
       "Data missing or out of range                  6\n",
       "Ridden horse                                  4\n",
       "Name: count, dtype: int64"
      ]
     },
     "execution_count": 17,
     "metadata": {},
     "output_type": "execute_result"
    }
   ],
   "source": [
    "road_kill['Vehicle_Type'].value_counts()"
   ]
  },
  {
   "cell_type": "markdown",
   "id": "56e4a3c8-7554-47ca-b492-b68a05295bf2",
   "metadata": {},
   "source": [
    "<h1>Looking for null values</h1>\n",
    "<hr>"
   ]
  },
  {
   "cell_type": "code",
   "execution_count": 18,
   "id": "45a42897-7359-49f1-af09-498727822682",
   "metadata": {},
   "outputs": [
    {
     "data": {
      "text/plain": [
       "Index                          0\n",
       "Accident_Severity              0\n",
       "Accident Date                  0\n",
       "Latitude                      25\n",
       "Light_Conditions               0\n",
       "District Area                  0\n",
       "Longitude                     26\n",
       "Number_of_Casualties           0\n",
       "Number_of_Vehicles             0\n",
       "Road_Surface_Conditions      726\n",
       "Road_Type                   4520\n",
       "Urban_or_Rural_Area           15\n",
       "Weather_Conditions         14128\n",
       "Vehicle_Type                   0\n",
       "dtype: int64"
      ]
     },
     "execution_count": 18,
     "metadata": {},
     "output_type": "execute_result"
    }
   ],
   "source": [
    "road_kill.isnull().sum()"
   ]
  },
  {
   "cell_type": "markdown",
   "id": "30987229-5f86-4d72-af81-a02dbcd5c084",
   "metadata": {},
   "source": [
    "<h1>Filling in Null Values</h1>\n",
    "<hr>"
   ]
  },
  {
   "cell_type": "code",
   "execution_count": 19,
   "id": "9b5a97d2-9ccb-463c-83f0-bd3ff768507e",
   "metadata": {},
   "outputs": [],
   "source": [
    "road_kill['Latitude'] = road_kill['Latitude'].fillna('unknown')\n",
    "road_kill['Road_Type'] = road_kill['Road_Type'].fillna('unknown')\n",
    "road_kill['Road_Surface_Conditions'] = road_kill['Road_Surface_Conditions'].fillna('unknown')\n",
    "road_kill['Longitude'] = road_kill['Longitude'].fillna('unknown')\n",
    "road_kill['Urban_or_Rural_Area'] = road_kill['Urban_or_Rural_Area'].fillna('unknown')\n",
    "road_kill['Weather_Conditions'] = road_kill['Weather_Conditions'].fillna('unknown')"
   ]
  },
  {
   "cell_type": "code",
   "execution_count": 20,
   "id": "517317df-d31d-4d3b-8c82-d1ac813cda9a",
   "metadata": {},
   "outputs": [
    {
     "data": {
      "text/plain": [
       "Index                      0\n",
       "Accident_Severity          0\n",
       "Accident Date              0\n",
       "Latitude                   0\n",
       "Light_Conditions           0\n",
       "District Area              0\n",
       "Longitude                  0\n",
       "Number_of_Casualties       0\n",
       "Number_of_Vehicles         0\n",
       "Road_Surface_Conditions    0\n",
       "Road_Type                  0\n",
       "Urban_or_Rural_Area        0\n",
       "Weather_Conditions         0\n",
       "Vehicle_Type               0\n",
       "dtype: int64"
      ]
     },
     "execution_count": 20,
     "metadata": {},
     "output_type": "execute_result"
    }
   ],
   "source": [
    "road_kill.isnull().sum()"
   ]
  },
  {
   "cell_type": "markdown",
   "id": "70ead21b-ad6e-47b6-8cca-ed3776da959f",
   "metadata": {},
   "source": [
    "<h1>Changing Datatypes</h1>"
   ]
  },
  {
   "cell_type": "code",
   "execution_count": 21,
   "id": "4ea9353f-b235-41fb-954c-92a7edc9fbcd",
   "metadata": {},
   "outputs": [
    {
     "data": {
      "text/plain": [
       "Index                      object\n",
       "Accident_Severity          object\n",
       "Accident Date              object\n",
       "Latitude                   object\n",
       "Light_Conditions           object\n",
       "District Area              object\n",
       "Longitude                  object\n",
       "Number_of_Casualties        int64\n",
       "Number_of_Vehicles          int64\n",
       "Road_Surface_Conditions    object\n",
       "Road_Type                  object\n",
       "Urban_or_Rural_Area        object\n",
       "Weather_Conditions         object\n",
       "Vehicle_Type               object\n",
       "dtype: object"
      ]
     },
     "execution_count": 21,
     "metadata": {},
     "output_type": "execute_result"
    }
   ],
   "source": [
    "road_kill.dtypes"
   ]
  },
  {
   "cell_type": "code",
   "execution_count": 22,
   "id": "3cb41570-9d47-4d84-9e24-b98bc0b0858f",
   "metadata": {},
   "outputs": [],
   "source": [
    "road_kill['Accident_Severity'] = road_kill['Accident_Severity'].astype('category')\n",
    "road_kill['Light_Conditions'] = road_kill['Light_Conditions'].astype('category')\n",
    "road_kill['District Area'] = road_kill['District Area'].astype('category')\n",
    "road_kill['Road_Surface_Conditions'] = road_kill['Road_Surface_Conditions'].astype('category')\n",
    "road_kill['Road_Type'] = road_kill['Road_Type'].astype('category')\n",
    "road_kill['Urban_or_Rural_Area'] = road_kill['Urban_or_Rural_Area'].astype('category')\n",
    "road_kill['Weather_Conditions'] = road_kill['Weather_Conditions'].astype('category')\n",
    "road_kill['Vehicle_Type'] = road_kill['Vehicle_Type'].astype('category')"
   ]
  },
  {
   "cell_type": "markdown",
   "id": "0ac1a0fb-b1dc-46fc-a9c6-244d2fcb1cd1",
   "metadata": {},
   "source": [
    "<h1>Extracting Date of Time Info</h1>\n",
    "<hr>"
   ]
  },
  {
   "cell_type": "code",
   "execution_count": 23,
   "id": "525a7ea9-03c3-49b6-a584-f3e9b24a2e15",
   "metadata": {},
   "outputs": [],
   "source": [
    "road_kill['Accident Date'] = pd.to_datetime(road_kill['Accident Date'], dayfirst = True, errors = 'coerce')"
   ]
  },
  {
   "cell_type": "code",
   "execution_count": 24,
   "id": "2ae9dec2-e7f1-4393-b314-5e7b27241b7d",
   "metadata": {},
   "outputs": [
    {
     "data": {
      "text/plain": [
       "Index                              object\n",
       "Accident_Severity                category\n",
       "Accident Date              datetime64[ns]\n",
       "Latitude                           object\n",
       "Light_Conditions                 category\n",
       "District Area                    category\n",
       "Longitude                          object\n",
       "Number_of_Casualties                int64\n",
       "Number_of_Vehicles                  int64\n",
       "Road_Surface_Conditions          category\n",
       "Road_Type                        category\n",
       "Urban_or_Rural_Area              category\n",
       "Weather_Conditions               category\n",
       "Vehicle_Type                     category\n",
       "dtype: object"
      ]
     },
     "execution_count": 24,
     "metadata": {},
     "output_type": "execute_result"
    }
   ],
   "source": [
    "road_kill.dtypes"
   ]
  },
  {
   "cell_type": "code",
   "execution_count": 25,
   "id": "2ce2ccf4-19af-4671-8e8f-5556d6e8d53a",
   "metadata": {},
   "outputs": [],
   "source": [
    "road_kill['Year'] = road_kill['Accident Date'].dt.year\n",
    "road_kill['Month'] = road_kill['Accident Date'].dt.month\n",
    "road_kill['Day'] = road_kill['Accident Date'].dt.day\n",
    "road_kill['DayOfWeek'] = road_kill['Accident Date'].dt.dayofweek"
   ]
  },
  {
   "cell_type": "code",
   "execution_count": 26,
   "id": "5ffe9c7b-e7b3-4136-a68b-4ee8effc5e60",
   "metadata": {},
   "outputs": [
    {
     "data": {
      "text/plain": [
       "Index                      0\n",
       "Accident_Severity          0\n",
       "Accident Date              0\n",
       "Latitude                   0\n",
       "Light_Conditions           0\n",
       "District Area              0\n",
       "Longitude                  0\n",
       "Number_of_Casualties       0\n",
       "Number_of_Vehicles         0\n",
       "Road_Surface_Conditions    0\n",
       "Road_Type                  0\n",
       "Urban_or_Rural_Area        0\n",
       "Weather_Conditions         0\n",
       "Vehicle_Type               0\n",
       "Year                       0\n",
       "Month                      0\n",
       "Day                        0\n",
       "DayOfWeek                  0\n",
       "dtype: int64"
      ]
     },
     "execution_count": 26,
     "metadata": {},
     "output_type": "execute_result"
    }
   ],
   "source": [
    "road_kill.isnull().sum()"
   ]
  },
  {
   "cell_type": "code",
   "execution_count": 27,
   "id": "5065629a-ce67-477f-977c-3f02c16844a3",
   "metadata": {},
   "outputs": [
    {
     "data": {
      "text/plain": [
       "Vehicle_Type\n",
       "Car                                      497992\n",
       "Van / Goods 3.5 tonnes mgw or under       34160\n",
       "Bus or coach (17 or more pass seats)      25878\n",
       "Motorcycle over 500cc                     25657\n",
       "Goods 7.5 tonnes mgw and over             17307\n",
       "Motorcycle 125cc and under                15269\n",
       "Taxi/Private hire car                     13294\n",
       "Motorcycle over 125cc and up to 500cc      7656\n",
       "Motorcycle 50cc and under                  7603\n",
       "Goods over 3.5t. and under 7.5t            6096\n",
       "Other vehicle                              5637\n",
       "Minibus (8 - 16 passenger seats)           1976\n",
       "Agricultural vehicle                       1947\n",
       "Pedal cycle                                 197\n",
       "Data missing or out of range                  6\n",
       "Ridden horse                                  4\n",
       "Name: count, dtype: int64"
      ]
     },
     "execution_count": 27,
     "metadata": {},
     "output_type": "execute_result"
    }
   ],
   "source": [
    "road_kill['Vehicle_Type'].value_counts()"
   ]
  },
  {
   "cell_type": "code",
   "execution_count": 28,
   "id": "bfa34162-470a-4486-bc1c-0e215f556760",
   "metadata": {},
   "outputs": [
    {
     "data": {
      "text/plain": [
       "Year\n",
       "2019    182115\n",
       "2020    170591\n",
       "2021    163554\n",
       "2022    144419\n",
       "Name: count, dtype: int64"
      ]
     },
     "execution_count": 28,
     "metadata": {},
     "output_type": "execute_result"
    }
   ],
   "source": [
    "road_kill['Year'].value_counts()"
   ]
  },
  {
   "cell_type": "code",
   "execution_count": 29,
   "id": "db85dad5-e46e-4089-a37e-13a76fd471e2",
   "metadata": {},
   "outputs": [
    {
     "data": {
      "text/plain": [
       "Light_Conditions\n",
       "Daylight                       484880\n",
       "Darkness - lights lit          129335\n",
       "Darkness - no lighting          37437\n",
       "Darkness - lighting unknown      6484\n",
       "Darkness - lights unlit          2543\n",
       "Name: count, dtype: int64"
      ]
     },
     "execution_count": 29,
     "metadata": {},
     "output_type": "execute_result"
    }
   ],
   "source": [
    "road_kill['Light_Conditions'].value_counts()"
   ]
  },
  {
   "cell_type": "code",
   "execution_count": 30,
   "id": "63b30d6e-c0c6-42df-976d-a9c76417db2d",
   "metadata": {},
   "outputs": [
    {
     "data": {
      "text/html": [
       "<div>\n",
       "<style scoped>\n",
       "    .dataframe tbody tr th:only-of-type {\n",
       "        vertical-align: middle;\n",
       "    }\n",
       "\n",
       "    .dataframe tbody tr th {\n",
       "        vertical-align: top;\n",
       "    }\n",
       "\n",
       "    .dataframe thead th {\n",
       "        text-align: right;\n",
       "    }\n",
       "</style>\n",
       "<table border=\"1\" class=\"dataframe\">\n",
       "  <thead>\n",
       "    <tr style=\"text-align: right;\">\n",
       "      <th></th>\n",
       "      <th>Index</th>\n",
       "      <th>Accident_Severity</th>\n",
       "      <th>Accident Date</th>\n",
       "      <th>Latitude</th>\n",
       "      <th>Light_Conditions</th>\n",
       "      <th>District Area</th>\n",
       "      <th>Longitude</th>\n",
       "      <th>Number_of_Casualties</th>\n",
       "      <th>Number_of_Vehicles</th>\n",
       "      <th>Road_Surface_Conditions</th>\n",
       "      <th>Road_Type</th>\n",
       "      <th>Urban_or_Rural_Area</th>\n",
       "      <th>Weather_Conditions</th>\n",
       "      <th>Vehicle_Type</th>\n",
       "      <th>Year</th>\n",
       "      <th>Month</th>\n",
       "      <th>Day</th>\n",
       "      <th>DayOfWeek</th>\n",
       "    </tr>\n",
       "  </thead>\n",
       "  <tbody>\n",
       "    <tr>\n",
       "      <th>1</th>\n",
       "      <td>200701BS65737</td>\n",
       "      <td>Serious</td>\n",
       "      <td>2019-07-02</td>\n",
       "      <td>51.495029</td>\n",
       "      <td>Daylight</td>\n",
       "      <td>Kensington and Chelsea</td>\n",
       "      <td>-0.173647</td>\n",
       "      <td>1</td>\n",
       "      <td>2</td>\n",
       "      <td>Wet or damp</td>\n",
       "      <td>Single carriageway</td>\n",
       "      <td>Urban</td>\n",
       "      <td>Raining no high winds</td>\n",
       "      <td>Car</td>\n",
       "      <td>2019</td>\n",
       "      <td>7</td>\n",
       "      <td>2</td>\n",
       "      <td>1</td>\n",
       "    </tr>\n",
       "    <tr>\n",
       "      <th>3</th>\n",
       "      <td>200701BS66128</td>\n",
       "      <td>Serious</td>\n",
       "      <td>2019-08-16</td>\n",
       "      <td>51.495478</td>\n",
       "      <td>Daylight</td>\n",
       "      <td>Kensington and Chelsea</td>\n",
       "      <td>-0.202731</td>\n",
       "      <td>1</td>\n",
       "      <td>4</td>\n",
       "      <td>Dry</td>\n",
       "      <td>Single carriageway</td>\n",
       "      <td>Urban</td>\n",
       "      <td>Fine no high winds</td>\n",
       "      <td>Bus or coach (17 or more pass seats)</td>\n",
       "      <td>2019</td>\n",
       "      <td>8</td>\n",
       "      <td>16</td>\n",
       "      <td>4</td>\n",
       "    </tr>\n",
       "    <tr>\n",
       "      <th>5</th>\n",
       "      <td>200701BS67159</td>\n",
       "      <td>Serious</td>\n",
       "      <td>2019-09-18</td>\n",
       "      <td>51.49775</td>\n",
       "      <td>Daylight</td>\n",
       "      <td>Kensington and Chelsea</td>\n",
       "      <td>-0.192556</td>\n",
       "      <td>2</td>\n",
       "      <td>3</td>\n",
       "      <td>Dry</td>\n",
       "      <td>Single carriageway</td>\n",
       "      <td>Urban</td>\n",
       "      <td>Fine no high winds</td>\n",
       "      <td>Car</td>\n",
       "      <td>2019</td>\n",
       "      <td>9</td>\n",
       "      <td>18</td>\n",
       "      <td>2</td>\n",
       "    </tr>\n",
       "    <tr>\n",
       "      <th>6</th>\n",
       "      <td>200701BS67207</td>\n",
       "      <td>Serious</td>\n",
       "      <td>2019-09-05</td>\n",
       "      <td>51.501405</td>\n",
       "      <td>Daylight</td>\n",
       "      <td>Kensington and Chelsea</td>\n",
       "      <td>-0.161577</td>\n",
       "      <td>1</td>\n",
       "      <td>2</td>\n",
       "      <td>Dry</td>\n",
       "      <td>Dual carriageway</td>\n",
       "      <td>Urban</td>\n",
       "      <td>Fine no high winds</td>\n",
       "      <td>Van / Goods 3.5 tonnes mgw or under</td>\n",
       "      <td>2019</td>\n",
       "      <td>9</td>\n",
       "      <td>5</td>\n",
       "      <td>3</td>\n",
       "    </tr>\n",
       "    <tr>\n",
       "      <th>9</th>\n",
       "      <td>200701BS67543</td>\n",
       "      <td>Slight</td>\n",
       "      <td>2019-10-18</td>\n",
       "      <td>51.484539</td>\n",
       "      <td>Daylight</td>\n",
       "      <td>Kensington and Chelsea</td>\n",
       "      <td>-0.175651</td>\n",
       "      <td>1</td>\n",
       "      <td>2</td>\n",
       "      <td>Dry</td>\n",
       "      <td>Single carriageway</td>\n",
       "      <td>Urban</td>\n",
       "      <td>Fine no high winds</td>\n",
       "      <td>Motorcycle over 125cc and up to 500cc</td>\n",
       "      <td>2019</td>\n",
       "      <td>10</td>\n",
       "      <td>18</td>\n",
       "      <td>4</td>\n",
       "    </tr>\n",
       "    <tr>\n",
       "      <th>...</th>\n",
       "      <td>...</td>\n",
       "      <td>...</td>\n",
       "      <td>...</td>\n",
       "      <td>...</td>\n",
       "      <td>...</td>\n",
       "      <td>...</td>\n",
       "      <td>...</td>\n",
       "      <td>...</td>\n",
       "      <td>...</td>\n",
       "      <td>...</td>\n",
       "      <td>...</td>\n",
       "      <td>...</td>\n",
       "      <td>...</td>\n",
       "      <td>...</td>\n",
       "      <td>...</td>\n",
       "      <td>...</td>\n",
       "      <td>...</td>\n",
       "      <td>...</td>\n",
       "    </tr>\n",
       "    <tr>\n",
       "      <th>182105</th>\n",
       "      <td>2.01E+12</td>\n",
       "      <td>Slight</td>\n",
       "      <td>2019-12-14</td>\n",
       "      <td>55.028861</td>\n",
       "      <td>Daylight</td>\n",
       "      <td>Dumfries and Galloway</td>\n",
       "      <td>-3.146837</td>\n",
       "      <td>1</td>\n",
       "      <td>1</td>\n",
       "      <td>Dry</td>\n",
       "      <td>Dual carriageway</td>\n",
       "      <td>Rural</td>\n",
       "      <td>Fine no high winds</td>\n",
       "      <td>Car</td>\n",
       "      <td>2019</td>\n",
       "      <td>12</td>\n",
       "      <td>14</td>\n",
       "      <td>5</td>\n",
       "    </tr>\n",
       "    <tr>\n",
       "      <th>182107</th>\n",
       "      <td>2.01E+12</td>\n",
       "      <td>Slight</td>\n",
       "      <td>2019-12-17</td>\n",
       "      <td>55.083848</td>\n",
       "      <td>Daylight</td>\n",
       "      <td>Dumfries and Galloway</td>\n",
       "      <td>-3.316981</td>\n",
       "      <td>1</td>\n",
       "      <td>2</td>\n",
       "      <td>Wet or damp</td>\n",
       "      <td>Dual carriageway</td>\n",
       "      <td>Rural</td>\n",
       "      <td>Fine no high winds</td>\n",
       "      <td>Car</td>\n",
       "      <td>2019</td>\n",
       "      <td>12</td>\n",
       "      <td>17</td>\n",
       "      <td>1</td>\n",
       "    </tr>\n",
       "    <tr>\n",
       "      <th>182108</th>\n",
       "      <td>2.01E+12</td>\n",
       "      <td>Fatal</td>\n",
       "      <td>2019-12-17</td>\n",
       "      <td>55.087424</td>\n",
       "      <td>Daylight</td>\n",
       "      <td>Dumfries and Galloway</td>\n",
       "      <td>-3.318665</td>\n",
       "      <td>1</td>\n",
       "      <td>2</td>\n",
       "      <td>Dry</td>\n",
       "      <td>Dual carriageway</td>\n",
       "      <td>Rural</td>\n",
       "      <td>Fine no high winds</td>\n",
       "      <td>Car</td>\n",
       "      <td>2019</td>\n",
       "      <td>12</td>\n",
       "      <td>17</td>\n",
       "      <td>1</td>\n",
       "    </tr>\n",
       "    <tr>\n",
       "      <th>182111</th>\n",
       "      <td>2.01E+12</td>\n",
       "      <td>Serious</td>\n",
       "      <td>2019-12-21</td>\n",
       "      <td>54.984105</td>\n",
       "      <td>Daylight</td>\n",
       "      <td>Dumfries and Galloway</td>\n",
       "      <td>-3.193693</td>\n",
       "      <td>2</td>\n",
       "      <td>1</td>\n",
       "      <td>Frost or ice</td>\n",
       "      <td>Single carriageway</td>\n",
       "      <td>Rural</td>\n",
       "      <td>Other</td>\n",
       "      <td>Car</td>\n",
       "      <td>2019</td>\n",
       "      <td>12</td>\n",
       "      <td>21</td>\n",
       "      <td>5</td>\n",
       "    </tr>\n",
       "    <tr>\n",
       "      <th>182114</th>\n",
       "      <td>2.01E+12</td>\n",
       "      <td>Serious</td>\n",
       "      <td>2019-12-22</td>\n",
       "      <td>55.104618</td>\n",
       "      <td>Daylight</td>\n",
       "      <td>Dumfries and Galloway</td>\n",
       "      <td>-3.348857</td>\n",
       "      <td>2</td>\n",
       "      <td>2</td>\n",
       "      <td>Frost or ice</td>\n",
       "      <td>Single carriageway</td>\n",
       "      <td>Rural</td>\n",
       "      <td>Raining no high winds</td>\n",
       "      <td>Car</td>\n",
       "      <td>2019</td>\n",
       "      <td>12</td>\n",
       "      <td>22</td>\n",
       "      <td>6</td>\n",
       "    </tr>\n",
       "  </tbody>\n",
       "</table>\n",
       "<p>133042 rows × 18 columns</p>\n",
       "</div>"
      ],
      "text/plain": [
       "                Index Accident_Severity Accident Date   Latitude  \\\n",
       "1       200701BS65737           Serious    2019-07-02  51.495029   \n",
       "3       200701BS66128           Serious    2019-08-16  51.495478   \n",
       "5       200701BS67159           Serious    2019-09-18   51.49775   \n",
       "6       200701BS67207           Serious    2019-09-05  51.501405   \n",
       "9       200701BS67543            Slight    2019-10-18  51.484539   \n",
       "...               ...               ...           ...        ...   \n",
       "182105       2.01E+12            Slight    2019-12-14  55.028861   \n",
       "182107       2.01E+12            Slight    2019-12-17  55.083848   \n",
       "182108       2.01E+12             Fatal    2019-12-17  55.087424   \n",
       "182111       2.01E+12           Serious    2019-12-21  54.984105   \n",
       "182114       2.01E+12           Serious    2019-12-22  55.104618   \n",
       "\n",
       "       Light_Conditions           District Area Longitude  \\\n",
       "1              Daylight  Kensington and Chelsea -0.173647   \n",
       "3              Daylight  Kensington and Chelsea -0.202731   \n",
       "5              Daylight  Kensington and Chelsea -0.192556   \n",
       "6              Daylight  Kensington and Chelsea -0.161577   \n",
       "9              Daylight  Kensington and Chelsea -0.175651   \n",
       "...                 ...                     ...       ...   \n",
       "182105         Daylight   Dumfries and Galloway -3.146837   \n",
       "182107         Daylight   Dumfries and Galloway -3.316981   \n",
       "182108         Daylight   Dumfries and Galloway -3.318665   \n",
       "182111         Daylight   Dumfries and Galloway -3.193693   \n",
       "182114         Daylight   Dumfries and Galloway -3.348857   \n",
       "\n",
       "        Number_of_Casualties  Number_of_Vehicles Road_Surface_Conditions  \\\n",
       "1                          1                   2             Wet or damp   \n",
       "3                          1                   4                     Dry   \n",
       "5                          2                   3                     Dry   \n",
       "6                          1                   2                     Dry   \n",
       "9                          1                   2                     Dry   \n",
       "...                      ...                 ...                     ...   \n",
       "182105                     1                   1                     Dry   \n",
       "182107                     1                   2             Wet or damp   \n",
       "182108                     1                   2                     Dry   \n",
       "182111                     2                   1            Frost or ice   \n",
       "182114                     2                   2            Frost or ice   \n",
       "\n",
       "                 Road_Type Urban_or_Rural_Area     Weather_Conditions  \\\n",
       "1       Single carriageway               Urban  Raining no high winds   \n",
       "3       Single carriageway               Urban     Fine no high winds   \n",
       "5       Single carriageway               Urban     Fine no high winds   \n",
       "6         Dual carriageway               Urban     Fine no high winds   \n",
       "9       Single carriageway               Urban     Fine no high winds   \n",
       "...                    ...                 ...                    ...   \n",
       "182105    Dual carriageway               Rural     Fine no high winds   \n",
       "182107    Dual carriageway               Rural     Fine no high winds   \n",
       "182108    Dual carriageway               Rural     Fine no high winds   \n",
       "182111  Single carriageway               Rural                  Other   \n",
       "182114  Single carriageway               Rural  Raining no high winds   \n",
       "\n",
       "                                 Vehicle_Type  Year  Month  Day  DayOfWeek  \n",
       "1                                         Car  2019      7    2          1  \n",
       "3        Bus or coach (17 or more pass seats)  2019      8   16          4  \n",
       "5                                         Car  2019      9   18          2  \n",
       "6         Van / Goods 3.5 tonnes mgw or under  2019      9    5          3  \n",
       "9       Motorcycle over 125cc and up to 500cc  2019     10   18          4  \n",
       "...                                       ...   ...    ...  ...        ...  \n",
       "182105                                    Car  2019     12   14          5  \n",
       "182107                                    Car  2019     12   17          1  \n",
       "182108                                    Car  2019     12   17          1  \n",
       "182111                                    Car  2019     12   21          5  \n",
       "182114                                    Car  2019     12   22          6  \n",
       "\n",
       "[133042 rows x 18 columns]"
      ]
     },
     "execution_count": 30,
     "metadata": {},
     "output_type": "execute_result"
    }
   ],
   "source": [
    "accident_19 = road_kill[(road_kill['Year'] == 2019) & (road_kill['Light_Conditions'] == 'Daylight')]\n",
    "accident_19"
   ]
  },
  {
   "cell_type": "markdown",
   "id": "8b2b11b5-0b1e-49ce-9efa-275213f468fd",
   "metadata": {},
   "source": [
    "<h1>Q1: Which month of the year has the most accidents between the year 2019 to 2022</h1>\n",
    "<hr>"
   ]
  },
  {
   "cell_type": "code",
   "execution_count": 31,
   "id": "71ad4357-6927-4535-ab80-401d8b1a25ed",
   "metadata": {},
   "outputs": [
    {
     "data": {
      "text/plain": [
       "<function matplotlib.pyplot.show(close=None, block=None)>"
      ]
     },
     "execution_count": 31,
     "metadata": {},
     "output_type": "execute_result"
    },
    {
     "data": {
      "image/png": "[encoded data removed]",
      "text/plain": [
       "<Figure size 1000x500 with 1 Axes>"
      ]
     },
     "metadata": {},
     "output_type": "display_data"
    }
   ],
   "source": [
    "monthly_data = road_kill.groupby(['Year', 'Month'])['Index'].count()\n",
    "monthly_data = monthly_data.unstack(level=0)\n",
    "monthly_data.plot(\n",
    "    marker = 'o',\n",
    "    figsize = (10,5),\n",
    "    title = 'Monthly Road Kill during the years (2019 - 2022)'\n",
    ")\n",
    "plt.xticks(range(1, 13), ['Jan', 'Feb', 'Mar', 'Apr', 'May', 'Jun', 'Jul', 'Aug', 'Sep', 'Oct', 'Nov', 'Dec'])\n",
    "plt.grid(alpha = 0.6)\n",
    "plt.show"
   ]
  },
  {
   "cell_type": "markdown",
   "id": "ec6439fd-3b9d-4851-adf2-8bc906890b7f",
   "metadata": {},
   "source": [
    "<h3>Insight 1: The year 2019 has the most car accidents durring November while the year 2022 has the least amount of car accidents in the same month</h3>\n",
    "<h3>Insight 2: Both the year 2019 and 2021 are the only years with the amount of accidents dropping durring January and increasing back during Febuary</h3>\n",
    "<h3>Insight 3: both the years 2019 to 2022 have decline in accidents starting at its peek in november and decreasing until january</h3>\n",
    "<h3>Insight 4: the year 2020 is the year with the least fluctuations in accident rate, only drasticaly increasing durring the month of august allong with the other years</h3>"
   ]
  },
  {
   "cell_type": "markdown",
   "id": "337e863e-596f-41d9-a1b6-cd4e42a2ce22",
   "metadata": {},
   "source": [
    "<h1>Q2: Which light level offered the most serious accident durring the year 2019</h1>\n",
    "<hr>"
   ]
  },
  {
   "cell_type": "code",
   "execution_count": 32,
   "id": "fec53cb4-3c48-4ff3-9c5b-8cfa1cfc40bd",
   "metadata": {},
   "outputs": [
    {
     "data": {
      "text/plain": [
       "Light_Conditions\n",
       "Daylight                       16447\n",
       "Darkness - lights lit           5460\n",
       "Darkness - no lighting          2096\n",
       "Darkness - lighting unknown      215\n",
       "Darkness - lights unlit          104\n",
       "Name: count, dtype: int64"
      ]
     },
     "execution_count": 32,
     "metadata": {},
     "output_type": "execute_result"
    }
   ],
   "source": [
    "accident_19 = road_kill[(road_kill['Year'] == 2019) & (road_kill['Accident_Severity'] == 'Serious')]\n",
    "accident_19['Light_Conditions'].value_counts()"
   ]
  },
  {
   "cell_type": "markdown",
   "id": "75b861ba-c047-476a-98ce-58382ec3abb2",
   "metadata": {},
   "source": [
    "<h3>Insight 5: The light level with the most serious accidents during 2019 is Daylight</h3>\n",
    "<h3>Insight 6: A light level of darkness with no lighting has made less accidences compared to darkness with lit lighthing </h3>"
   ]
  },
  {
   "cell_type": "markdown",
   "id": "f6df0fdc-cd25-4120-a302-d5c32ee4d7db",
   "metadata": {},
   "source": [
    "<h1>Q3: Is the Urban area more prone to car accidents or the rural area during 2021?</h1>\n",
    "<hr>"
   ]
  },
  {
   "cell_type": "code",
   "execution_count": 33,
   "id": "f4cc9126-cad4-4484-82e1-11e02372ef01",
   "metadata": {},
   "outputs": [
    {
     "data": {
      "text/plain": [
       "Urban_or_Rural_Area\n",
       "Urban          421663\n",
       "Rural          238990\n",
       "unknown            15\n",
       "Unallocated        11\n",
       "Name: count, dtype: int64"
      ]
     },
     "execution_count": 33,
     "metadata": {},
     "output_type": "execute_result"
    }
   ],
   "source": [
    "road_kill['Urban_or_Rural_Area'].value_counts()"
   ]
  },
  {
   "cell_type": "code",
   "execution_count": 34,
   "id": "f5aaea53-f00e-4873-8217-d272f14a01e0",
   "metadata": {},
   "outputs": [
    {
     "data": {
      "text/plain": [
       "Urban_or_Rural_Area\n",
       "Urban          104538\n",
       "Rural           59016\n",
       "Unallocated         0\n",
       "unknown             0\n",
       "Name: count, dtype: int64"
      ]
     },
     "execution_count": 34,
     "metadata": {},
     "output_type": "execute_result"
    }
   ],
   "source": [
    "accident_21 = road_kill[road_kill['Year'] == 2021]\n",
    "accident_21['Urban_or_Rural_Area'].value_counts()"
   ]
  },
  {
   "cell_type": "markdown",
   "id": "54465743-196b-4be6-b345-c691e8e427b1",
   "metadata": {},
   "source": [
    "<h3>Insight 7: The urban area is more prone to car accidents compared to the rural area with almost doubling the numbers</h3>"
   ]
  },
  {
   "cell_type": "markdown",
   "id": "397cf129-c734-4e6f-b884-a9cd10209c97",
   "metadata": {},
   "source": [
    "<h1>Q4: Which vehicle type has the least fatal accidents during 2020</h1>\n",
    "<hr>"
   ]
  },
  {
   "cell_type": "code",
   "execution_count": 35,
   "id": "1388acce-7a2e-4589-8630-8e5ad548f831",
   "metadata": {},
   "outputs": [
    {
     "data": {
      "text/plain": [
       "Accident_Severity\n",
       "Slight     563801\n",
       "Serious     88217\n",
       "Fatal        8661\n",
       "Name: count, dtype: int64"
      ]
     },
     "execution_count": 35,
     "metadata": {},
     "output_type": "execute_result"
    }
   ],
   "source": [
    "road_kill['Accident_Severity'].value_counts()"
   ]
  },
  {
   "cell_type": "code",
   "execution_count": 36,
   "id": "6b2a4e2c-5c00-41ca-acd2-9c0f088ef917",
   "metadata": {},
   "outputs": [
    {
     "data": {
      "text/plain": [
       "Vehicle_Type\n",
       "Car                                      108738\n",
       "Van / Goods 3.5 tonnes mgw or under        7807\n",
       "Bus or coach (17 or more pass seats)       5777\n",
       "Motorcycle over 500cc                      5739\n",
       "Goods 7.5 tonnes mgw and over              3854\n",
       "Motorcycle 125cc and under                 3503\n",
       "Taxi/Private hire car                      2983\n",
       "Motorcycle over 125cc and up to 500cc      1645\n",
       "Motorcycle 50cc and under                  1497\n",
       "Goods over 3.5t. and under 7.5t            1313\n",
       "Other vehicle                              1293\n",
       "Agricultural vehicle                        481\n",
       "Minibus (8 - 16 passenger seats)            449\n",
       "Pedal cycle                                  44\n",
       "Data missing or out of range                  6\n",
       "Ridden horse                                  0\n",
       "Name: count, dtype: int64"
      ]
     },
     "execution_count": 36,
     "metadata": {},
     "output_type": "execute_result"
    }
   ],
   "source": [
    "car_type = road_kill[(road_kill['Accident_Severity'] == 'Slight') & (road_kill['Year'] == 2020)]\n",
    "car_type['Vehicle_Type'].value_counts()"
   ]
  },
  {
   "cell_type": "markdown",
   "id": "f1d6b3ff-b0ba-4016-8e1d-4cf5e95e26ba",
   "metadata": {},
   "source": [
    "<h3>Insight 8: the pedal bike the least fatal accidents during 2020</h3>"
   ]
  },
  {
   "cell_type": "markdown",
   "id": "e6aba738-a144-42f8-9bd3-4a67d6b95ceb",
   "metadata": {},
   "source": [
    "<h1>Q5: Which district are has the most car accidents during 2022 as well  as the least car accidents</h1>"
   ]
  },
  {
   "cell_type": "code",
   "execution_count": 37,
   "id": "bb7a84de-c0d0-46e6-91cc-ce6605fa2f28",
   "metadata": {},
   "outputs": [
    {
     "data": {
      "text/plain": [
       "District Area\n",
       "Birmingham       2185\n",
       "Leeds            1512\n",
       "Cornwall         1163\n",
       "Manchester       1117\n",
       "Bradford         1081\n",
       "                 ... \n",
       "Tynedale            0\n",
       "Wansbeck            0\n",
       "Vale Royal          0\n",
       "Aberdeenshire       0\n",
       "Aberdeen City       0\n",
       "Name: count, Length: 422, dtype: int64"
      ]
     },
     "execution_count": 37,
     "metadata": {},
     "output_type": "execute_result"
    }
   ],
   "source": [
    "car_district = road_kill[(road_kill['Vehicle_Type'] == 'Car') & (road_kill['Year'] == 2022)]\n",
    "car_district['District Area'].value_counts()"
   ]
  },
  {
   "cell_type": "markdown",
   "id": "11354f7a-85ff-4842-91a9-979f170341da",
   "metadata": {},
   "source": [
    "<h3>Insight 9: Birmingham has the most car acidents occured durring 2022</h3>\n",
    "<h3>Insight 10: London airpor on the other hand has the least car acidents occured durring 2022 having 100 times less compared to Birmingham</h3>"
   ]
  },
  {
   "cell_type": "markdown",
   "id": "47538229-f32c-4a5b-a39f-e7e9b78646e1",
   "metadata": {},
   "source": [
    "<h1>Q6: What is the severity count of every accident in Birmingham under every road surface condition?\n",
    "</h1>\n",
    "<hr>"
   ]
  },
  {
   "cell_type": "code",
   "execution_count": 38,
   "id": "eab19188-8b4f-4187-b933-6a7841313bb3",
   "metadata": {},
   "outputs": [
    {
     "data": {
      "text/plain": [
       "Road_Surface_Conditions\n",
       "Dry                     447821\n",
       "Wet or damp             186708\n",
       "Frost or ice             18517\n",
       "Snow                      5890\n",
       "Flood over 3cm. deep      1017\n",
       "unknown                    726\n",
       "Name: count, dtype: int64"
      ]
     },
     "execution_count": 38,
     "metadata": {},
     "output_type": "execute_result"
    }
   ],
   "source": [
    "road_kill['Road_Surface_Conditions'].value_counts()"
   ]
  },
  {
   "cell_type": "code",
   "execution_count": 39,
   "id": "98f2678a-eff6-4982-87b6-baef97c87e85",
   "metadata": {},
   "outputs": [
    {
     "data": {
      "text/plain": [
       "Accident_Severity\n",
       "Slight     3284\n",
       "Serious     382\n",
       "Fatal        35\n",
       "Name: count, dtype: int64"
      ]
     },
     "execution_count": 39,
     "metadata": {},
     "output_type": "execute_result"
    }
   ],
   "source": [
    "wet_birmingham = road_kill[(road_kill['District Area'] == 'Birmingham') & (road_kill['Road_Surface_Conditions'] == 'Wet or damp')]\n",
    "wet_birmingham['Accident_Severity'].value_counts()"
   ]
  },
  {
   "cell_type": "markdown",
   "id": "47c3858c-013f-4ef4-b82b-6bcb4235f50c",
   "metadata": {},
   "source": [
    "<h3>Insight 11: Birmingham has a fatal accident records of 35 under wet road surface condition</h3>"
   ]
  },
  {
   "cell_type": "markdown",
   "id": "f702bde5-9c13-4ac4-8c7e-58226dae11ec",
   "metadata": {},
   "source": [
    "<h1>Q9: Which district has the most fatal record of accidents durring frozen and snowy road surface conditions</h1>\n",
    "<hr>"
   ]
  },
  {
   "cell_type": "code",
   "execution_count": 40,
   "id": "1bfda10b-eca3-4be2-a429-36b0dea8f966",
   "metadata": {},
   "outputs": [
    {
     "data": {
      "text/plain": [
       "District Area\n",
       "East Riding of Yorkshire    5\n",
       "East Hertfordshire          5\n",
       "Highland                    4\n",
       "Cherwell                    3\n",
       "Angus                       3\n",
       "                           ..\n",
       "Bracknell Forest            0\n",
       "Braintree                   0\n",
       "Berwick-upon-Tweed          0\n",
       "Bexley                      0\n",
       "Blackpool                   0\n",
       "Name: count, Length: 422, dtype: int64"
      ]
     },
     "execution_count": 40,
     "metadata": {},
     "output_type": "execute_result"
    }
   ],
   "source": [
    "frozen_fatality = road_kill[(road_kill['Road_Surface_Conditions'] == 'Frost or ice') & (road_kill['Accident_Severity'] == 'Fatal')]\n",
    "frozen_fatality['District Area'].value_counts()"
   ]
  },
  {
   "cell_type": "markdown",
   "id": "c5e21960-6db2-453f-aec8-aae667d1b9b7",
   "metadata": {},
   "source": [
    "<h3>Insight 12: The district with the highest recorded fatality is between East Hertfordshire and East Riding of Yorkshire both having a fatality recording of 5</h3>\n",
    "<h3>Insight 13: Majority of the other districts only has a fatality recording of 1</h3>"
   ]
  },
  {
   "cell_type": "markdown",
   "id": "8bd04446-bdab-44c6-b56f-37b7c6295833",
   "metadata": {},
   "source": [
    "<h1>Q10: Which year has the least fatality record in the Leeds district under daylight light conditions</h1>\n",
    "<hr>"
   ]
  },
  {
   "cell_type": "code",
   "execution_count": 41,
   "id": "8550b35c-8c3f-441d-8f6c-54e83fbc7ae0",
   "metadata": {},
   "outputs": [
    {
     "data": {
      "text/plain": [
       "Year\n",
       "2019    1802\n",
       "2020    1679\n",
       "2021    1574\n",
       "2022    1427\n",
       "Name: count, dtype: int64"
      ]
     },
     "execution_count": 41,
     "metadata": {},
     "output_type": "execute_result"
    }
   ],
   "source": [
    "day_leeds = road_kill[(road_kill['District Area'] == 'Leeds') & (road_kill['Light_Conditions'] == 'Daylight')]\n",
    "day_leeds['Year'].value_counts()"
   ]
  },
  {
   "cell_type": "markdown",
   "id": "3ea21875-fdba-4e12-9de9-375e21d1d912",
   "metadata": {},
   "source": [
    "<h3>Insight 14: 2022 is the year with the least fatality record in the Leeds district in daylight light condition</h3>"
   ]
  },
  {
   "cell_type": "markdown",
   "id": "0d3c7c2b-43ab-4b68-bfca-e14ce4410e40",
   "metadata": {},
   "source": [
    "<h1>Q11: What weather condition has the highest recorded fatality in road accidents</h1>\n",
    "<hr>"
   ]
  },
  {
   "cell_type": "code",
   "execution_count": 42,
   "id": "d21769c2-f0d0-47c0-8935-50f65be51bfc",
   "metadata": {},
   "outputs": [
    {
     "name": "stdout",
     "output_type": "stream",
     "text": [
      "<class 'pandas.core.frame.DataFrame'>\n",
      "RangeIndex: 660679 entries, 0 to 660678\n",
      "Data columns (total 18 columns):\n",
      " #   Column                   Non-Null Count   Dtype         \n",
      "---  ------                   --------------   -----         \n",
      " 0   Index                    660679 non-null  object        \n",
      " 1   Accident_Severity        660679 non-null  category      \n",
      " 2   Accident Date            660679 non-null  datetime64[ns]\n",
      " 3   Latitude                 660679 non-null  object        \n",
      " 4   Light_Conditions         660679 non-null  category      \n",
      " 5   District Area            660679 non-null  category      \n",
      " 6   Longitude                660679 non-null  object        \n",
      " 7   Number_of_Casualties     660679 non-null  int64         \n",
      " 8   Number_of_Vehicles       660679 non-null  int64         \n",
      " 9   Road_Surface_Conditions  660679 non-null  category      \n",
      " 10  Road_Type                660679 non-null  category      \n",
      " 11  Urban_or_Rural_Area      660679 non-null  category      \n",
      " 12  Weather_Conditions       660679 non-null  category      \n",
      " 13  Vehicle_Type             660679 non-null  category      \n",
      " 14  Year                     660679 non-null  int32         \n",
      " 15  Month                    660679 non-null  int32         \n",
      " 16  Day                      660679 non-null  int32         \n",
      " 17  DayOfWeek                660679 non-null  int32         \n",
      "dtypes: category(8), datetime64[ns](1), int32(4), int64(2), object(3)\n",
      "memory usage: 46.0+ MB\n"
     ]
    }
   ],
   "source": [
    "road_kill.info()"
   ]
  },
  {
   "cell_type": "code",
   "execution_count": 43,
   "id": "795181fa-4370-42cc-90d0-79c569ac9ddd",
   "metadata": {},
   "outputs": [
    {
     "data": {
      "text/plain": [
       "Accident_Severity\n",
       "Slight     563801\n",
       "Serious     88217\n",
       "Fatal        8661\n",
       "Name: count, dtype: int64"
      ]
     },
     "execution_count": 43,
     "metadata": {},
     "output_type": "execute_result"
    }
   ],
   "source": [
    "road_kill['Accident_Severity'].value_counts()"
   ]
  },
  {
   "cell_type": "code",
   "execution_count": 44,
   "id": "7a487070-24f7-49fc-b847-7edfb0491299",
   "metadata": {
    "scrolled": true
   },
   "outputs": [
    {
     "data": {
      "image/png": "[encoded data removed]",
      "text/plain": [
       "<Figure size 640x480 with 1 Axes>"
      ]
     },
     "metadata": {},
     "output_type": "display_data"
    }
   ],
   "source": [
    "severe_winds = road_kill[road_kill['Accident_Severity'] == 'Fatal']\n",
    "severe_winds['Weather_Conditions'].value_counts().plot(kind='bar')\n",
    "plt.show()"
   ]
  },
  {
   "cell_type": "code",
   "execution_count": 45,
   "id": "995d2e07-f10a-44d5-b0fc-96f879f23682",
   "metadata": {},
   "outputs": [
    {
     "data": {
      "text/plain": [
       "Weather_Conditions\n",
       "Fine no high winds       7100\n",
       "Raining no high winds     848\n",
       "Fine + high winds         175\n",
       "Other                     165\n",
       "Raining + high winds      145\n",
       "unknown                   107\n",
       "Fog or mist                82\n",
       "Snowing no high winds      36\n",
       "Snowing + high winds        3\n",
       "Name: count, dtype: int64"
      ]
     },
     "execution_count": 45,
     "metadata": {},
     "output_type": "execute_result"
    }
   ],
   "source": [
    "severe_winds['Weather_Conditions'].value_counts()"
   ]
  },
  {
   "cell_type": "markdown",
   "id": "59d5df27-e92a-4ec5-9d0e-9400dad44426",
   "metadata": {},
   "source": [
    "<h3>Insight 15: The weather with the highest fatality record is clear/no high winds weather condition</h3>\n",
    "<h3>Insight 16: Snowing and high wind weather conditions have the least record of fatal vehicle accidents</h3>"
   ]
  },
  {
   "cell_type": "markdown",
   "id": "463d6494-205a-43a7-8ac8-034c16a859f0",
   "metadata": {},
   "source": [
    "<h1>Q12: Whats the monthly road accident record in Manchester by Year (2019 - 2022)</h1>"
   ]
  },
  {
   "cell_type": "code",
   "execution_count": 46,
   "id": "03246195-9b0e-46d2-90fc-27c0ea008205",
   "metadata": {},
   "outputs": [
    {
     "data": {
      "text/plain": [
       "District Area\n",
       "Birmingham            13491\n",
       "Leeds                  8898\n",
       "Manchester             6720\n",
       "Bradford               6212\n",
       "Sheffield              5710\n",
       "                      ...  \n",
       "Berwick-upon-Tweed      153\n",
       "Teesdale                142\n",
       "Shetland Islands        133\n",
       "Orkney Islands          117\n",
       "Clackmannanshire         91\n",
       "Name: count, Length: 422, dtype: int64"
      ]
     },
     "execution_count": 46,
     "metadata": {},
     "output_type": "execute_result"
    }
   ],
   "source": [
    "road_kill['District Area'].value_counts()"
   ]
  },
  {
   "cell_type": "code",
   "execution_count": 47,
   "id": "aeb4e185-3ae2-48a1-aca4-272b84a329a5",
   "metadata": {},
   "outputs": [
    {
     "data": {
      "image/png": "[encoded data removed]",
      "text/plain": [
       "<Figure size 1000x500 with 1 Axes>"
      ]
     },
     "metadata": {},
     "output_type": "display_data"
    }
   ],
   "source": [
    "manchester_kill = road_kill[road_kill['District Area'] == 'Manchester']\n",
    "manchester_monthly = manchester_kill.groupby(['Year', 'Month'])['Index'].count()\n",
    "manchester_monthly = manchester_monthly.unstack(level=0)\n",
    "manchester_monthly.plot(\n",
    "                  marker='o', \n",
    "                  figsize=(10, 5),\n",
    "                  title='Monthly Road Accidents in Manchester by Year (2019-2022)'\n",
    ")\n",
    "plt.xticks(range(1, 13), ['Jan','Feb','Mar','Apr','May','Jun','Jul','Aug','Sep','Oct','Nov','Dec'])\n",
    "plt.grid(alpha=0.3)\n",
    "plt.show()"
   ]
  },
  {
   "cell_type": "markdown",
   "id": "f1642b96-dbd8-4757-9201-ad216fdce4fd",
   "metadata": {
    "jp-MarkdownHeadingCollapsed": true
   },
   "source": [
    "<h3>Insight 17: The year 2019 has the most car accidents durring November while the year 2022 has the least amount of car accidents in the same month</h3>\n",
    "<h3>Insight 18: Both 2021 and 2020 almost has the same vehicle accident record in the same month of January</h3>\n",
    "<h3>Insight 19: The year 2022 is the only year where the vehicle accident rate doest decrease during the start of the year but instead increasing until the month pf march</h3>\n",
    "<h3>Insight 20: Every year at the start of the month of June, the vehicle accident rate always decreases until the month of July</h3>"
   ]
  },
  {
   "cell_type": "markdown",
   "id": "311d7b25-4af9-416e-9954-25f558984d8b",
   "metadata": {},
   "source": [
    "<h1>Q13: Which year has the least fatal vehicle accident record under rainy weather</h1>"
   ]
  },
  {
   "cell_type": "code",
   "execution_count": 53,
   "id": "35b557d5-8069-432e-a3b6-dcfdf3678b2a",
   "metadata": {},
   "outputs": [
    {
     "data": {
      "text/plain": [
       "<Axes: xlabel='Year'>"
      ]
     },
     "execution_count": 53,
     "metadata": {},
     "output_type": "execute_result"
    },
    {
     "data": {
      "image/png": "[encoded data removed]",
      "text/plain": [
       "<Figure size 640x480 with 1 Axes>"
      ]
     },
     "metadata": {},
     "output_type": "display_data"
    }
   ],
   "source": [
    "minor_rain = road_kill[(road_kill['Weather_Conditions'] == 'Raining no high winds')  & (road_kill['Accident_Severity'] == 'Slight')]\n",
    "minor_rain.groupby('Year')['Index'].size().plot(kind='bar')"
   ]
  },
  {
   "cell_type": "code",
   "execution_count": 51,
   "id": "ef20795e-e8ce-44f6-8f64-69b4cb60b95e",
   "metadata": {},
   "outputs": [
    {
     "data": {
      "text/plain": [
       "Year\n",
       "2019    19915\n",
       "2020    19047\n",
       "2021    17088\n",
       "2022    13330\n",
       "Name: count, dtype: int64"
      ]
     },
     "execution_count": 51,
     "metadata": {},
     "output_type": "execute_result"
    }
   ],
   "source": [
    "minor_rain['Year'].value_counts()"
   ]
  },
  {
   "cell_type": "markdown",
   "id": "1dcc3423-d85e-44d5-898e-470cd8bf4dad",
   "metadata": {},
   "source": [
    "<h3>Insight 21: The year with the least fatal record of vehicle accidents under rainy weather is 2019</h3>"
   ]
  },
  {
   "cell_type": "markdown",
   "id": "717822b0-8274-49a3-bad6-bd6f1677e564",
   "metadata": {},
   "source": [
    "<h1>Accident Severity Record Per Year</h1>"
   ]
  },
  {
   "cell_type": "code",
   "execution_count": 55,
   "id": "4539cbf4-252c-4705-82a9-3cf3fb9dd7dc",
   "metadata": {},
   "outputs": [
    {
     "data": {
      "text/html": [
       "<div>\n",
       "<style scoped>\n",
       "    .dataframe tbody tr th:only-of-type {\n",
       "        vertical-align: middle;\n",
       "    }\n",
       "\n",
       "    .dataframe tbody tr th {\n",
       "        vertical-align: top;\n",
       "    }\n",
       "\n",
       "    .dataframe thead th {\n",
       "        text-align: right;\n",
       "    }\n",
       "</style>\n",
       "<table border=\"1\" class=\"dataframe\">\n",
       "  <thead>\n",
       "    <tr style=\"text-align: right;\">\n",
       "      <th>Accident_Severity</th>\n",
       "      <th>Fatal</th>\n",
       "      <th>Serious</th>\n",
       "      <th>Slight</th>\n",
       "    </tr>\n",
       "    <tr>\n",
       "      <th>Year</th>\n",
       "      <th></th>\n",
       "      <th></th>\n",
       "      <th></th>\n",
       "    </tr>\n",
       "  </thead>\n",
       "  <tbody>\n",
       "    <tr>\n",
       "      <th>2019</th>\n",
       "      <td>2714</td>\n",
       "      <td>24322</td>\n",
       "      <td>155079</td>\n",
       "    </tr>\n",
       "    <tr>\n",
       "      <th>2020</th>\n",
       "      <td>2341</td>\n",
       "      <td>23121</td>\n",
       "      <td>145129</td>\n",
       "    </tr>\n",
       "    <tr>\n",
       "      <th>2021</th>\n",
       "      <td>2057</td>\n",
       "      <td>21997</td>\n",
       "      <td>139500</td>\n",
       "    </tr>\n",
       "    <tr>\n",
       "      <th>2022</th>\n",
       "      <td>1549</td>\n",
       "      <td>18777</td>\n",
       "      <td>124093</td>\n",
       "    </tr>\n",
       "  </tbody>\n",
       "</table>\n",
       "</div>"
      ],
      "text/plain": [
       "Accident_Severity  Fatal  Serious  Slight\n",
       "Year                                     \n",
       "2019                2714    24322  155079\n",
       "2020                2341    23121  145129\n",
       "2021                2057    21997  139500\n",
       "2022                1549    18777  124093"
      ]
     },
     "execution_count": 55,
     "metadata": {},
     "output_type": "execute_result"
    }
   ],
   "source": [
    "severity_year = road_kill.groupby(['Accident_Severity','Year']).size().unstack(level=0)\n",
    "severity_year"
   ]
  },
  {
   "cell_type": "markdown",
   "id": "675e2230-ce2a-4d6f-a887-1a76915087ec",
   "metadata": {},
   "source": [
    "<h1>What is the Accident Severity in Birmingham During 2022</h1>"
   ]
  },
  {
   "cell_type": "code",
   "execution_count": 59,
   "id": "08a88893-fb46-4c2c-ad7b-2c83b930f543",
   "metadata": {},
   "outputs": [
    {
     "data": {
      "text/plain": [
       "Accident_Severity\n",
       "Slight     563801\n",
       "Serious     88217\n",
       "Fatal        8661\n",
       "Name: count, dtype: int64"
      ]
     },
     "execution_count": 59,
     "metadata": {},
     "output_type": "execute_result"
    }
   ],
   "source": [
    "birming_22 = road_kill[(road_kill['District Area'] == 'Birmingham') & (road_kill['Year'] == 2022)]\n",
    "road_kill['Accident_Severity'].value_counts()\n"
   ]
  },
  {
   "cell_type": "code",
   "execution_count": null,
   "id": "01191d1b-7d7c-43b5-b7c3-276a3afa0080",
   "metadata": {},
   "outputs": [],
   "source": []
  }
 ],
 "metadata": {
  "kernelspec": {
   "display_name": "Python 3 (ipykernel)",
   "language": "python",
   "name": "python3"
  },
  "language_info": {
   "codemirror_mode": {
    "name": "ipython",
    "version": 3
   },
   "file_extension": ".py",
   "mimetype": "text/x-python",
   "name": "python",
   "nbconvert_exporter": "python",
   "pygments_lexer": "ipython3",
   "version": "3.13.5"
  }
 },
 "nbformat": 4,
 "nbformat_minor": 5
}
